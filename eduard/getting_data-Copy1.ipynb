{
 "cells": [
  {
   "cell_type": "code",
   "execution_count": 1,
   "metadata": {},
   "outputs": [
    {
     "name": "stdout",
     "output_type": "stream",
     "text": [
      "Requirement already satisfied: pytrends in /home/eduard/anaconda3/lib/python3.7/site-packages (4.7.3)\n",
      "Requirement already satisfied: requests in /home/eduard/anaconda3/lib/python3.7/site-packages (from pytrends) (2.23.0)\n",
      "Requirement already satisfied: lxml in /home/eduard/anaconda3/lib/python3.7/site-packages (from pytrends) (4.6.1)\n",
      "Requirement already satisfied: pandas>=0.25 in /home/eduard/anaconda3/lib/python3.7/site-packages (from pytrends) (1.1.2+1.g514aca06b1)\n",
      "Requirement already satisfied: numpy>=1.15.4 in /home/eduard/anaconda3/lib/python3.7/site-packages (from pandas>=0.25->pytrends) (1.19.4)\n",
      "Requirement already satisfied: pytz>=2017.2 in /home/eduard/anaconda3/lib/python3.7/site-packages (from pandas>=0.25->pytrends) (2020.1)\n",
      "Requirement already satisfied: python-dateutil>=2.7.3 in /home/eduard/anaconda3/lib/python3.7/site-packages (from pandas>=0.25->pytrends) (2.8.1)\n",
      "Requirement already satisfied: six>=1.5 in /home/eduard/anaconda3/lib/python3.7/site-packages (from python-dateutil>=2.7.3->pandas>=0.25->pytrends) (1.15.0)\n",
      "Requirement already satisfied: chardet<4,>=3.0.2 in /home/eduard/anaconda3/lib/python3.7/site-packages (from requests->pytrends) (3.0.4)\n",
      "Requirement already satisfied: idna<3,>=2.5 in /home/eduard/anaconda3/lib/python3.7/site-packages (from requests->pytrends) (2.10)\n",
      "Requirement already satisfied: urllib3!=1.25.0,!=1.25.1,<1.26,>=1.21.1 in /home/eduard/anaconda3/lib/python3.7/site-packages (from requests->pytrends) (1.25.10)\n",
      "Requirement already satisfied: certifi>=2017.4.17 in /home/eduard/anaconda3/lib/python3.7/site-packages (from requests->pytrends) (2020.6.20)\n"
     ]
    }
   ],
   "source": [
    "# !pip install pytrends\n",
    "\n",
    "from pandas_datareader import data as pdr\n",
    "from datetime import date\n",
    "# import yfinance as yf\n",
    "# yf.pdr_override()\n",
    "import pandas as pd\n",
    "# import matplotlib.pyplot as plt\n",
    "# import plotly.offline as pyo\n",
    "\n",
    "from pytrends.request import TrendReq\n",
    "# import plotly.graph_objs as go\n",
    "\n",
    "# pyo.init_notebook_mode()\n",
    "\n",
    "# import yahoofinance as yf"
   ]
  },
  {
   "cell_type": "markdown",
   "metadata": {},
   "source": [
    "## Import py trends"
   ]
  },
  {
   "cell_type": "code",
   "execution_count": 2,
   "metadata": {},
   "outputs": [],
   "source": [
    "pytrend = TrendReq()"
   ]
  },
  {
   "cell_type": "code",
   "execution_count": 3,
   "metadata": {},
   "outputs": [
    {
     "data": {
      "text/html": [
       "<div>\n",
       "<style scoped>\n",
       "    .dataframe tbody tr th:only-of-type {\n",
       "        vertical-align: middle;\n",
       "    }\n",
       "\n",
       "    .dataframe tbody tr th {\n",
       "        vertical-align: top;\n",
       "    }\n",
       "\n",
       "    .dataframe thead th {\n",
       "        text-align: right;\n",
       "    }\n",
       "</style>\n",
       "<table border=\"1\" class=\"dataframe\">\n",
       "  <thead>\n",
       "    <tr style=\"text-align: right;\">\n",
       "      <th></th>\n",
       "      <th>0</th>\n",
       "    </tr>\n",
       "  </thead>\n",
       "  <tbody>\n",
       "    <tr>\n",
       "      <th>0</th>\n",
       "      <td>8 апреля праздник</td>\n",
       "    </tr>\n",
       "    <tr>\n",
       "      <th>1</th>\n",
       "      <td>День ангела Алла</td>\n",
       "    </tr>\n",
       "    <tr>\n",
       "      <th>2</th>\n",
       "      <td>Ольга Пашкова</td>\n",
       "    </tr>\n",
       "    <tr>\n",
       "      <th>3</th>\n",
       "      <td>Какой сегодня праздник</td>\n",
       "    </tr>\n",
       "    <tr>\n",
       "      <th>4</th>\n",
       "      <td>Челси</td>\n",
       "    </tr>\n",
       "    <tr>\n",
       "      <th>5</th>\n",
       "      <td>Ювентус – Наполі</td>\n",
       "    </tr>\n",
       "    <tr>\n",
       "      <th>6</th>\n",
       "      <td>Праздник сегодня</td>\n",
       "    </tr>\n",
       "    <tr>\n",
       "      <th>7</th>\n",
       "      <td>8 квітня свято</td>\n",
       "    </tr>\n",
       "    <tr>\n",
       "      <th>8</th>\n",
       "      <td>Березовий сік</td>\n",
       "    </tr>\n",
       "    <tr>\n",
       "      <th>9</th>\n",
       "      <td>Челси Порту</td>\n",
       "    </tr>\n",
       "    <tr>\n",
       "      <th>10</th>\n",
       "      <td>Лига Европы</td>\n",
       "    </tr>\n",
       "    <tr>\n",
       "      <th>11</th>\n",
       "      <td>Настя Каменских</td>\n",
       "    </tr>\n",
       "    <tr>\n",
       "      <th>12</th>\n",
       "      <td>ОАСК</td>\n",
       "    </tr>\n",
       "    <tr>\n",
       "      <th>13</th>\n",
       "      <td>Сегодня праздник</td>\n",
       "    </tr>\n",
       "    <tr>\n",
       "      <th>14</th>\n",
       "      <td>Кравчук</td>\n",
       "    </tr>\n",
       "    <tr>\n",
       "      <th>15</th>\n",
       "      <td>Интер – Сассуоло</td>\n",
       "    </tr>\n",
       "    <tr>\n",
       "      <th>16</th>\n",
       "      <td>Всесвітній день здоров'я</td>\n",
       "    </tr>\n",
       "    <tr>\n",
       "      <th>17</th>\n",
       "      <td>Дубаї</td>\n",
       "    </tr>\n",
       "    <tr>\n",
       "      <th>18</th>\n",
       "      <td>Благовещение</td>\n",
       "    </tr>\n",
       "    <tr>\n",
       "      <th>19</th>\n",
       "      <td>Благовіщення</td>\n",
       "    </tr>\n",
       "  </tbody>\n",
       "</table>\n",
       "</div>"
      ],
      "text/plain": [
       "                           0\n",
       "0          8 апреля праздник\n",
       "1           День ангела Алла\n",
       "2              Ольга Пашкова\n",
       "3     Какой сегодня праздник\n",
       "4                      Челси\n",
       "5           Ювентус – Наполі\n",
       "6           Праздник сегодня\n",
       "7             8 квітня свято\n",
       "8              Березовий сік\n",
       "9                Челси Порту\n",
       "10               Лига Европы\n",
       "11           Настя Каменских\n",
       "12                      ОАСК\n",
       "13          Сегодня праздник\n",
       "14                   Кравчук\n",
       "15          Интер – Сассуоло\n",
       "16  Всесвітній день здоров'я\n",
       "17                     Дубаї\n",
       "18              Благовещение\n",
       "19              Благовіщення"
      ]
     },
     "execution_count": 3,
     "metadata": {},
     "output_type": "execute_result"
    }
   ],
   "source": [
    "df = pytrend.trending_searches(pn='ukraine')#, start_data='06-04-2021', end_data='07-04-2021')\n",
    "df.head(30)"
   ]
  },
  {
   "cell_type": "code",
   "execution_count": 5,
   "metadata": {},
   "outputs": [],
   "source": [
    "kw_list = [\n",
    "          'bitcoin', \n",
    "          'bitcoin price',\n",
    "          'bitcoin usd',\n",
    "          'bitcoin kurs',\n",
    "            'Bitcoin.com',\n",
    "            'Bitcoin Gold',\n",
    "           'BTC-USD',     \n",
    "            'Bitcoin Cash',\n",
    "       'binance',\n",
    "    \n",
    "    \n",
    "            'cryptocurrency',\n",
    "            'cryptocurrency bitcoin',\n",
    "           'news cryptocurrency',\n",
    "           'crypto',\n",
    "           'buy bitcoin',\n",
    "           'bitcoin stock',\n",
    "           'best cryptocurrency',\n",
    "           'cryptocurrency market',\n",
    "           'buy cryptocurrency',\n",
    "           'what is cryptocurrency',\n",
    "           'cryptocurrency exchange',\n",
    "          ]\n",
    "\n",
    "def get_data_from_query(kw_list, timeframe='today 5-y', save=True):\n",
    "    for word in kw_list:\n",
    "        word_l = [word]\n",
    "        get_result = pytrend.build_payload(word_l, cat=0, timeframe='today 5-y', geo='', gprop='')\n",
    "        result = pytrend.interest_over_time()\n",
    "        \n",
    "        if save:\n",
    "            result.to_csv(f'{word}_5YearAgo.csv')"
   ]
  },
  {
   "cell_type": "code",
   "execution_count": 4,
   "metadata": {},
   "outputs": [
    {
     "name": "stdout",
     "output_type": "stream",
     "text": [
      "            cryptocurrency exchange isPartial\n",
      "date                                         \n",
      "2016-04-10                        1     False\n",
      "2016-04-17                        0     False\n",
      "2016-04-24                        0     False\n",
      "2016-05-01                        0     False\n",
      "2016-05-08                        1     False\n",
      "...                             ...       ...\n",
      "2021-03-07                       10     False\n",
      "2021-03-14                        9     False\n",
      "2021-03-21                       10     False\n",
      "2021-03-28                       10     False\n",
      "2021-04-04                       12      True\n",
      "\n",
      "[261 rows x 2 columns]\n"
     ]
    },
    {
     "data": {
      "text/plain": [
       "<matplotlib.axes._subplots.AxesSubplot at 0x7f3a1dba86d0>"
      ]
     },
     "execution_count": 4,
     "metadata": {},
     "output_type": "execute_result"
    },
    {
     "data": {
      "image/png": "[encoded data removed]",
      "text/plain": [
       "<Figure size 432x288 with 1 Axes>"
      ]
     },
     "metadata": {
      "needs_background": "light"
     },
     "output_type": "display_data"
    }
   ],
   "source": [
    "kw_list = [\n",
    "          'bitcoin', \n",
    "          'bitcoin price',\n",
    "          'bitcoin usd',\n",
    "          'bitcoin kurs',\n",
    "            'Bitcoin.com',\n",
    "            'Bitcoin Gold',\n",
    "           'BTC-USD',     \n",
    "            'Bitcoin Cash',\n",
    "       'binance',\n",
    "    \n",
    "    \n",
    "            'cryptocurrency',\n",
    "            'cryptocurrency bitcoin',\n",
    "           'news cryptocurrency',\n",
    "           'crypto',\n",
    "           'buy bitcoin',\n",
    "           'bitcoin stock',\n",
    "           'best cryptocurrency',\n",
    "           'cryptocurrency market',\n",
    "           'buy cryptocurrency',\n",
    "           'what is cryptocurrency',\n",
    "           'cryptocurrency exchange',\n",
    "          ]\n",
    "for word in kw_list:\n",
    "    word_l = [word]\n",
    "    get_result = pytrend.build_payload(word_l, cat=0, timeframe='today 5-y', geo='', gprop='')\n",
    "    result = pytrend.interest_over_time()\n",
    "    result.to_csv(f'{word}_5YearAgo.csv')\n",
    "\n",
    "print(result)\n",
    "result.plot()"
   ]
  },
  {
   "cell_type": "code",
   "execution_count": null,
   "metadata": {},
   "outputs": [],
   "source": []
  }
 ],
 "metadata": {
  "kernelspec": {
   "display_name": "Python 3",
   "language": "python",
   "name": "python3"
  },
  "language_info": {
   "codemirror_mode": {
    "name": "ipython",
    "version": 3
   },
   "file_extension": ".py",
   "mimetype": "text/x-python",
   "name": "python",
   "nbconvert_exporter": "python",
   "pygments_lexer": "ipython3",
   "version": "3.7.7"
  }
 },
 "nbformat": 4,
 "nbformat_minor": 4
}
