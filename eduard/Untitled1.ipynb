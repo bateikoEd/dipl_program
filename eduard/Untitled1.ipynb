{
 "cells": [
  {
   "cell_type": "code",
   "execution_count": null,
   "metadata": {},
   "outputs": [],
   "source": [
    "from pandas_datareader import data as pdr\n",
    "from datetime import date\n",
    "# import yfinance as yf\n",
    "# yf.pdr_override()\n",
    "import pandas as pd\n",
    "import matplotlib.pyplot as plt\n",
    "import plotly.offline as pyo\n",
    "\n",
    "from pytrends.request import TrendReq\n",
    "import plotly.graph_objs as go\n",
    "\n",
    "pyo.init_notebook_mode()\n",
    "\n",
    "import yahoofinance as yf"
   ]
  },
  {
   "cell_type": "code",
   "execution_count": null,
   "metadata": {},
   "outputs": [],
   "source": [
    "start_data = '2004-04-12'\n",
    "end_data = date.today()\n",
    "\n",
    "\n",
    "# data_btc = yf.download(tickers='ETH-USD', start=start_data, end=end_data, interval='1d')"
   ]
  },
  {
   "cell_type": "code",
   "execution_count": null,
   "metadata": {},
   "outputs": [],
   "source": [
    "ticker_list = ['BTC-USD', 'ETH-USD']"
   ]
  },
  {
   "cell_type": "code",
   "execution_count": null,
   "metadata": {},
   "outputs": [],
   "source": [
    "data = yf.HistoricalPrices('ETH-USD', start_date=start_data, end_date=end_data).to_dfs()"
   ]
  },
  {
   "cell_type": "code",
   "execution_count": null,
   "metadata": {},
   "outputs": [],
   "source": []
  },
  {
   "cell_type": "code",
   "execution_count": null,
   "metadata": {},
   "outputs": [],
   "source": [
    "data['Historical Prices']"
   ]
  },
  {
   "cell_type": "markdown",
   "metadata": {},
   "source": [
    "## Import py trends"
   ]
  },
  {
   "cell_type": "code",
   "execution_count": null,
   "metadata": {},
   "outputs": [],
   "source": [
    "pytrend = TrendReq()"
   ]
  },
  {
   "cell_type": "code",
   "execution_count": null,
   "metadata": {},
   "outputs": [],
   "source": [
    "df = pytrend.trending_searches(pn='ukraine')#, start_data='06-04-2021', end_data='07-04-2021')\n",
    "df.head(30)"
   ]
  },
  {
   "cell_type": "code",
   "execution_count": null,
   "metadata": {},
   "outputs": [],
   "source": [
    "keywords = trend.suggestions(keyword='BTC-USD')\n",
    "df = pd.DataFrame(keywords)\n",
    "df.drop(['mid'], axis=1)"
   ]
  },
  {
   "cell_type": "code",
   "execution_count": null,
   "metadata": {},
   "outputs": [],
   "source": [
    "keywords = trend.suggestions(keyword='btc')\n",
    "df = pd.DataFrame(keywords)\n",
    "df.drop(['mid'], axis=1)"
   ]
  },
  {
   "cell_type": "code",
   "execution_count": null,
   "metadata": {},
   "outputs": [],
   "source": [
    "keywords = trend.suggestions(keyword='bitcoin')\n",
    "df = pd.DataFrame(keywords)\n",
    "df.drop(['mid'], axis=1)"
   ]
  },
  {
   "cell_type": "code",
   "execution_count": null,
   "metadata": {},
   "outputs": [],
   "source": [
    "keywords = trend.suggestions(keyword='cryptocurrency')\n",
    "df = pd.DataFrame(keywords)\n",
    "df.drop(['mid'], axis=1)"
   ]
  },
  {
   "cell_type": "code",
   "execution_count": null,
   "metadata": {},
   "outputs": [],
   "source": [
    "trend.build_payload(kw_list=['bitcoin'])"
   ]
  },
  {
   "cell_type": "code",
   "execution_count": null,
   "metadata": {},
   "outputs": [],
   "source": [
    "trend.build_payload(kw_list=['bitcoin'])\n",
    "related_queries = trend.related_queries()\n",
    "related_queries.values()"
   ]
  },
  {
   "cell_type": "code",
   "execution_count": null,
   "metadata": {},
   "outputs": [],
   "source": [
    "trend.build_payload(kw_list=['cryptocurrency'])\n",
    "related_queries = trend.related_queries()\n",
    "related_queries.values()"
   ]
  },
  {
   "cell_type": "markdown",
   "metadata": {},
   "source": [
    "## Chosed related words \n",
    "            'bitcoin', \n",
    "           'Bitcoin.com', \n",
    "           'Bitcoin Cash',\n",
    "          'Bitcoin Gold',\n",
    "          'bitcoin price',\n",
    "          'bitcoin usd',\n",
    "          'bitcoin kurs',\n",
    "           'BTC-USD',\n",
    "           \n",
    "           'cryptocurrency',\n",
    "          'cryptocurrency bitcoin',\n",
    "           'news cryptocurrency',\n",
    "           'crypto',\n",
    "           'buy bitcoin',\n",
    "           'bitcoin stock',\n",
    "           'binance',\n",
    "           'best cryptocurrency',\n",
    "           'cryptocurrency market',\n",
    "           'buy cryptocurrency',\n",
    "           'what is cryptocurrency',\n",
    "           'cryptocurrency exchange',\n",
    "         \n",
    "         \n",
    "         \n",
    "## Deleted realated words\n",
    "    'Bitcoin.com'\n",
    "    'Bitcoin Gold'\n",
    "               'BTC-USD'            'Bitcoin Cash',\n",
    "           'binance',\n"
   ]
  },
  {
   "cell_type": "code",
   "execution_count": null,
   "metadata": {},
   "outputs": [],
   "source": [
    "kw_list = [\n",
    "          'bitcoin', \n",
    "          'bitcoin price',\n",
    "          'bitcoin usd',\n",
    "          'bitcoin kurs',\n",
    "           \n",
    "            'cryptocurrency',\n",
    "            'cryptocurrency bitcoin',\n",
    "           'news cryptocurrency',\n",
    "           'crypto',\n",
    "           'buy bitcoin',\n",
    "           'bitcoin stock',\n",
    "           'best cryptocurrency',\n",
    "           'cryptocurrency market',\n",
    "           'buy cryptocurrency',\n",
    "           'what is cryptocurrency',\n",
    "           'cryptocurrency exchange',\n",
    "          ]\n",
    "\n",
    "\n",
    "kw_list_btc = [\n",
    "            'bitcoin', \n",
    "          'bitcoin price',\n",
    "          'bitcoin usd',\n",
    "          'bitcoin kurs',\n",
    "]\n",
    "\n",
    "kw_list_crypto = [\n",
    "            'cryptocurrency',\n",
    "          'cryptocurrency bitcoin',\n",
    "           'news cryptocurrency',\n",
    "           'crypto',\n",
    "           'buy bitcoin',\n",
    "           'bitcoin stock',\n",
    "           'best cryptocurrency',\n",
    "           'cryptocurrency market',\n",
    "           'buy cryptocurrency',\n",
    "           'what is cryptocurrency',\n",
    "           'cryptocurrency exchange',\n",
    "]"
   ]
  },
  {
   "cell_type": "code",
   "execution_count": null,
   "metadata": {},
   "outputs": [],
   "source": [
    "%%time\n",
    "word = [kw_list[2]]\n",
    "\n",
    "\n",
    "trend_qury = pytrend.get_historical_interest(word, year_start=2015, month_start=1, day_start=1, hour_start=0, year_end=2021, month_end=12, day_end=1, hour_end=0, cat=0, geo='', gprop='', sleep=0)\n",
    "trend_qury"
   ]
  },
  {
   "cell_type": "code",
   "execution_count": null,
   "metadata": {},
   "outputs": [],
   "source": [
    "plt.plot(trend_qury['bitcoin'][-800:])"
   ]
  },
  {
   "cell_type": "code",
   "execution_count": null,
   "metadata": {},
   "outputs": [],
   "source": [
    "trend_qury[''].plot()#.drop('cryptocurrency', axis=1).plot()\n",
    "# plt.plot(trend_qury.drop('bitcoin', axis=1))"
   ]
  },
  {
   "cell_type": "code",
   "execution_count": null,
   "metadata": {},
   "outputs": [],
   "source": [
    "%%time\n",
    "for word in kw_list[2:]:\n",
    "    print(word)\n",
    "    word_l = [word]\n",
    "    trend_qury = pytrend.get_historical_interest(word_l, year_start=2015, month_start=1, day_start=1, hour_start=0, year_end=2021, month_end=12, day_end=1, hour_end=0, cat=0, geo='', gprop='', sleep=0)\n",
    "    trend_qury.drop('isPartial', axis=1).to_csv(f'../../data_dm/eduard/google_qurery_Data/{word}.csv')"
   ]
  },
  {
   "cell_type": "code",
   "execution_count": null,
   "metadata": {},
   "outputs": [],
   "source": [
    "len(trend_qury)"
   ]
  },
  {
   "cell_type": "code",
   "execution_count": null,
   "metadata": {},
   "outputs": [],
   "source": [
    "trend_qury.drop('isPartial', axis=1).to_csv(f'../../data_dm/eduard/google_qurery_Data/{word[0]}.csv')"
   ]
  },
  {
   "cell_type": "code",
   "execution_count": null,
   "metadata": {},
   "outputs": [],
   "source": [
    "%%time\n",
    "query_17 = pytrend.get_historical_interest(ticker_list, year_start=2014, month_start=1, day_start=1, hour_start=0, year_end=2017, month_end=12, day_end=1, hour_end=0, cat=0, geo='', gprop='', sleep=0)\n",
    "query_17"
   ]
  },
  {
   "cell_type": "code",
   "execution_count": null,
   "metadata": {},
   "outputs": [],
   "source": []
  }
 ],
 "metadata": {
  "kernelspec": {
   "display_name": "Python 3",
   "language": "python",
   "name": "python3"
  },
  "language_info": {
   "codemirror_mode": {
    "name": "ipython",
    "version": 3
   },
   "file_extension": ".py",
   "mimetype": "text/x-python",
   "name": "python",
   "nbconvert_exporter": "python",
   "pygments_lexer": "ipython3",
   "version": "3.7.7"
  }
 },
 "nbformat": 4,
 "nbformat_minor": 4
}
